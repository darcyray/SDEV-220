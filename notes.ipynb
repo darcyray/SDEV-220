{
 "cells": [
  {
   "cell_type": "markdown",
   "metadata": {},
   "source": [
    "#### basic if statements\n",
    "\n",
    "* if statements allow you to control the flow of the program\n",
    "* if something is true, it runs - if not, the statement is skipped\n",
    "\n",
    "* relational operators - determine whether a condition or relationship between two variables is\n",
    "* true or false\n",
    "\n",
    "* <,> , <=, >=, ==, !, . \n",
    "* these are used to compare values"
   ]
  },
  {
   "cell_type": "code",
   "execution_count": 1,
   "metadata": {},
   "outputs": [
    {
     "name": "stdout",
     "output_type": "stream",
     "text": [
      "A is greater than 2\n"
     ]
    }
   ],
   "source": [
    "a = 5\n",
    "\n",
    "if a > 2:\n",
    "    print(\"A is greater than 2\")"
   ]
  },
  {
   "cell_type": "markdown",
   "metadata": {},
   "source": [
    "* double equal (==) is used in an if statement to COMPARE if two things are equal. \n",
    "the single (=) sign assigns a value"
   ]
  },
  {
   "cell_type": "code",
   "execution_count": null,
   "metadata": {},
   "outputs": [
    {
     "data": {
      "text/plain": [
       "x and y are equal\n"
      ]
     },
     "metadata": {},
     "output_type": "display_data"
    }
   ],
   "source": [
    "x = 7\n",
    "y = 7\n",
    "\n",
    "if x == y:\n",
    "    print(\"x and y are equal\")"
   ]
  },
  {
   "cell_type": "markdown",
   "metadata": {},
   "source": [
    "* != means to compare two values to see if they are not equal\n",
    "we will see the ! (not) operator later on, but it takes the boolean result and flips it"
   ]
  },
  {
   "cell_type": "code",
   "execution_count": null,
   "metadata": {},
   "outputs": [
    {
     "data": {
      "text/plain": [
       "these numbers are not equal\n"
      ]
     },
     "metadata": {},
     "output_type": "display_data"
    }
   ],
   "source": [
    "first_number = int(input(\"input a whole number: \"))\n",
    "second_number = int(input(\"input a second number: \"))\n",
    "\n",
    "if first_number != second_number:\n",
    "    print(\"these numbers are not equal\")"
   ]
  },
  {
   "cell_type": "markdown",
   "metadata": {},
   "source": [
    "#### if-else statements\n",
    "\n",
    "* if-else statements are called dual-alternative\n",
    "* if a statement is true, the path will flow into the if statement\n",
    "* if the statement is false, the path will flow into the else statement\n",
    "\n",
    "* else literally means anything else\n",
    "    *  *sometimes else can be too much of a catch-all*"
   ]
  },
  {
   "cell_type": "code",
   "execution_count": null,
   "metadata": {},
   "outputs": [
    {
     "data": {
      "text/plain": [
       "a and b are NOT equal\n"
      ]
     },
     "metadata": {},
     "output_type": "display_data"
    }
   ],
   "source": [
    "a = 7\n",
    "b = 9\n",
    "\n",
    "if a == b:\n",
    "    print(\"a and be are equal\")\n",
    "else:\n",
    "    print(\"a and b are NOT equal\")"
   ]
  },
  {
   "cell_type": "markdown",
   "metadata": {},
   "source": [
    "#### can you vote program\n",
    "\n",
    "*the code below will test to see if someone is old enough to vote*"
   ]
  },
  {
   "cell_type": "code",
   "execution_count": null,
   "metadata": {},
   "outputs": [
    {
     "data": {
      "text/plain": [
       "You are old enough to vote.\n"
      ]
     },
     "metadata": {},
     "output_type": "display_data"
    }
   ],
   "source": [
    "age = int(input(\"Please enter your age: \"))\n",
    "\n",
    "if age >= 18:\n",
    "    print(\"You are old enough to vote.\")\n",
    "else:\n",
    "    print(\"You are not old enough to vote.\")"
   ]
  },
  {
   "cell_type": "markdown",
   "metadata": {},
   "source": [
    "\n",
    "#### nested ifs\n",
    "\n",
    "* nested ifs work by having a series of if statements that must be true and drilled down to in order to run\n",
    "\n",
    "* compound conditions work similarly, but not in  the same way\n",
    "\n",
    "* try to avoid nested ifs when possible, because it can be hard to read and takes up memory\n",
    "\n",
    "###### let's make a quick program that says you get a discounted movie ticket if you are 12 and younger or if you are 65 or older and the rating is G"
   ]
  },
  {
   "cell_type": "code",
   "execution_count": null,
   "metadata": {},
   "outputs": [
    {
     "name": "stdout",
     "output_type": "stream",
     "text": [
      "Ticket price is: 10.0\n",
      "Ticket price is: 10.0\n"
     ]
    }
   ],
   "source": [
    "ticket_price = 10.00\n",
    "discount = 0.10\n",
    "\n",
    "age = int(input(\"How old are you?\"))\n",
    "rating = \"G\"\n",
    "\n",
    "# when comparing strings, capitalization matters\n",
    "if rating == \"G\":\n",
    "    if age <= 12:\n",
    "        ticket_price = ticket_price - (ticket_price * discount)\n",
    "        print(\"Child discount applied. Your ticket price is:\",ticket_price)\n",
    "    else:\n",
    "        print(\"Ticket price is:\",ticket_price)\n",
    "        \n",
    "    if age >= 65:\n",
    "        ticket_price = ticket_price - (ticket_price * discount)\n",
    "        print(\"Senior citizen discount applied. Your ticket price is:\",ticket_price)\n",
    "    else:\n",
    "        print(\"Ticket price is:\",ticket_price)\n",
    "else:\n",
    "    print(\"Rating is not G, discount not applied. Ticket price is:\",ticket_price)"
   ]
  },
  {
   "cell_type": "markdown",
   "metadata": {},
   "source": [
    "#### elif statements\n",
    "\n",
    "* elif statements are multi-alternatives (more than two conditions we're comparing)\n",
    "\n",
    "* usually deals with ranges or looking for certain values out of a list\n",
    "\n",
    "below is an example of taking a numerical grade, and assigning a letter grade based on the following ranges:\n",
    "\n",
    "    A = 90-100\n",
    "    B = 80-89\n",
    "    C = 70-79\n",
    "    D = 60-69\n",
    "    F = < 60\n"
   ]
  },
  {
   "cell_type": "code",
   "execution_count": null,
   "metadata": {},
   "outputs": [
    {
     "name": "stdout",
     "output_type": "stream",
     "text": [
      "Your letter grade is C\n"
     ]
    }
   ],
   "source": [
    "number_grade = 75\n",
    "letter_grade = \"\"\n",
    "\n",
    "if number_grade >= 90:\n",
    "    letter_grade = \"A\"\n",
    "\n",
    "# short circuiting - when an if or elif condition is met, it skips the rest of the statements below it    \n",
    "elif number_grade >= 80:\n",
    "    letter_grade = \"B\"\n",
    "    \n",
    "elif number_grade >= 70:\n",
    "    letter_grade = \"C\"\n",
    "\n",
    "elif number_grade >= 60:\n",
    "    letter_grade = \"D\"\n",
    "\n",
    "elif number_grade < 60:\n",
    "    letter_grade = \"F\"\n",
    "\n",
    "print(\"Your letter grade is\", letter_grade)"
   ]
  },
  {
   "cell_type": "markdown",
   "metadata": {},
   "source": [
    "#### compound operators\n",
    "* compound operators allow you to check for multiple condition inline with your if statements\n",
    "* there are three types of compound conditions\n",
    "    * and - both things must be true for the if statement to work\n",
    "    * or - only one must be true\n",
    "    * not - flips the boolean value of the result to its opposite (i.e. true becomes false, false becomes true)\n",
    "\n",
    "lets take the previous example of being able to vote. so far, we said you had to be 18 and older to vote. let's also add that you must be registered to vote.\n",
    "\n",
    "you can do this two ways:\n",
    "\n",
    "1. nesting (bad)"
   ]
  },
  {
   "cell_type": "code",
   "execution_count": null,
   "metadata": {},
   "outputs": [],
   "source": [
    "\n",
    "age = int(input(\"Please enter your age: \"))\n",
    "registered = \"y\"\n",
    "\n",
    "# nested statements must be true all the way down\n",
    "# in other words, for line 19 to execute line 17 and 18 must also be true\n",
    "\n",
    "if age >= 18:\n",
    "    if (registered == \"y\"):\n",
    "        print(\"You are old enough to vote.\")\n",
    "    \n",
    "    else:\n",
    "        print(\"You can't vote due to not being registered.\")\n",
    "else:\n",
    "    print(\"You are not old enough to vote.\")"
   ]
  },
  {
   "cell_type": "markdown",
   "metadata": {},
   "source": [
    "**and statements**\n",
    "\n",
    "2. using compound conditions"
   ]
  },
  {
   "cell_type": "code",
   "execution_count": 4,
   "metadata": {},
   "outputs": [
    {
     "name": "stdout",
     "output_type": "stream",
     "text": [
      "You are not old enough to vote.\n"
     ]
    }
   ],
   "source": [
    "age = int(input(\"Please enter your age: \"))\n",
    "registered = \"y\"\n",
    "\n",
    "if age >= 18 and registered == \"y\":\n",
    "    print(\"You can vote.\")\n",
    "elif age >= 18 and registered == \"n\":\n",
    "    print(\"You must be registered to vote.\")\n",
    "else:\n",
    "    print(\"You are not old enough to vote.\")"
   ]
  },
  {
   "cell_type": "markdown",
   "metadata": {},
   "source": [
    "**or statements**\n",
    "\n",
    "let's use the movie example from earlier and clean it up a bit. ignore the G rating."
   ]
  },
  {
   "cell_type": "code",
   "execution_count": 8,
   "metadata": {},
   "outputs": [
    {
     "name": "stdout",
     "output_type": "stream",
     "text": [
      "Your ticket price is 10.0\n"
     ]
    }
   ],
   "source": [
    "ticket_price = 10.00\n",
    "discount = 0.10\n",
    "\n",
    "age = int(input(\"How old are you?\"))\n",
    "\n",
    "# or condition\n",
    "\n",
    "if age <= 12 or age >= 65:\n",
    "    ticket_price = ticket_price - (ticket_price * discount)\n",
    "    print(\"Your ticket price is\", ticket_price)\n",
    "else:\n",
    "    print(\"Your ticket price is\", ticket_price)"
   ]
  },
  {
   "cell_type": "markdown",
   "metadata": {},
   "source": [
    "**not statements**"
   ]
  },
  {
   "cell_type": "code",
   "execution_count": 10,
   "metadata": {},
   "outputs": [
    {
     "name": "stdout",
     "output_type": "stream",
     "text": [
      "x is not equal to 10 or 11\n"
     ]
    }
   ],
   "source": [
    "x = 9\n",
    "\n",
    "if not(x == 10 or x == 11):\n",
    "    print(\"x is not equal to 10 or 11\")\n",
    "else:\n",
    "    print(\"x is equal to either 10 or 11\")"
   ]
  },
  {
   "cell_type": "markdown",
   "metadata": {},
   "source": [
    "### combining compound operators - salary example"
   ]
  },
  {
   "cell_type": "markdown",
   "metadata": {},
   "source": [
    "* create a program that determines if you can get a loan based on salary and years worked\n",
    "* if you have worked 2 years or more and your salary is > 30k a year, then you qualify"
   ]
  },
  {
   "cell_type": "code",
   "execution_count": null,
   "metadata": {},
   "outputs": [],
   "source": [
    "# variables\n",
    "salary = float(input(\"Give me your salary for the year:\"))\n",
    "years = int(input(\"How many years have you worked at your place of employment?\"))\n",
    "\n",
    "if salary >= 30000 and years >= 2:\n",
    "    print(\"You qualify for a loan.\")\n",
    "\n",
    "#lets deal with the alternative of not qualifying - we want the user to know why they don't qualify\n",
    "\n",
    "elif salary >= 30000 and years < 2:\n",
    "    print(\"You have not worked long enough to qualify. Salary is acceptable.\")\n",
    "\n",
    "elif salary < 30000 and years >= 2:\n",
    "    print(\"Your salary is not high enough to qualify. You have worked long enough at your workplace.\")\n",
    "\n",
    "else:\n",
    "    print(\"Your salary is not high enough to qualify and you have not worked long enough at your place of work.\")\n",
    "\n"
   ]
  },
  {
   "cell_type": "markdown",
   "metadata": {},
   "source": [
    "### loops"
   ]
  },
  {
   "cell_type": "markdown",
   "metadata": {},
   "source": [
    "* loops are also control structures\n",
    "* they repeat code until a condition is met\n",
    "* they use same logic and relational operators that conditionals use\n",
    "* the loop's main goal is to repeat code until you don't want the code to be repeated\n",
    "* two types of loops\n",
    "    * while\n",
    "        * repeats code based on a specific condition and is broken due to the condition no longer being met\n",
    "    * for\n",
    "        * controlled by a counter and repeats code a certain number of times or repeats code until it processes a certain amount of data"
   ]
  },
  {
   "cell_type": "markdown",
   "metadata": {},
   "source": [
    "### data structures\n",
    "\n",
    "* data structures define how data is stored and organized outside of normal data types\n",
    "* usually they contain more than one piece of data"
   ]
  },
  {
   "cell_type": "markdown",
   "metadata": {},
   "source": [
    "### lists\n",
    "* lists are a type of data structure that can hold multiple pieces of data\n",
    "* similar to arrays in other languages, except lists can hold multiple data types and are dynamic\n",
    "* lists are denoted by square brackets []\n",
    "* lists are mutable, meaning they can be changed after they are created, adn can be modified to add, delete, or change elements\n",
    "\n",
    "creating a list"
   ]
  },
  {
   "cell_type": "code",
   "execution_count": null,
   "metadata": {},
   "outputs": [],
   "source": [
    "list = []\n",
    "\n",
    "# list of test scores for a test\n",
    "\n",
    "test_scores = [100, 90, 80, 70, 60]\n",
    "\n",
    "# if we need to access or change a single item in the list, we use the index of the element to grab it\n",
    "\n",
    "print(test_scores[0]) # 100"
   ]
  },
  {
   "cell_type": "markdown",
   "metadata": {},
   "source": [
    "* why do we use lists?\n",
    "    * we want to group data together\n",
    "    * we want to change or access multiple items\n",
    "    * we want to iterate over them (use a loop to go through each element in the list)\n",
    "* if we need to display or modify items in a list we use a for loop\n",
    "* in python there are a few types of for loops\n",
    "    * for in loop - for items in this list do the following\n",
    "\n",
    "we are going to use a for in loop to display all the test scores in a list. to do so we create a variable placeholder to  represent each INDIVIDUAL score in the test_scores list"
   ]
  },
  {
   "cell_type": "code",
   "execution_count": null,
   "metadata": {},
   "outputs": [
    {
     "name": "stdout",
     "output_type": "stream",
     "text": [
      "100\n",
      "90\n",
      "80\n",
      "70\n",
      "60\n"
     ]
    }
   ],
   "source": [
    "test_scores = [100, 90, 80, 70, 60]\n",
    "\n",
    "for score in test_scores:\n",
    "    print(score)"
   ]
  },
  {
   "cell_type": "markdown",
   "metadata": {},
   "source": [
    "instead of printing the score, we can add five to each score"
   ]
  },
  {
   "cell_type": "code",
   "execution_count": 3,
   "metadata": {},
   "outputs": [
    {
     "name": "stdout",
     "output_type": "stream",
     "text": [
      "105\n",
      "95\n",
      "85\n",
      "75\n",
      "65\n"
     ]
    }
   ],
   "source": [
    "test_scores = [100, 90, 80, 70, 60]\n",
    "\n",
    "for score in test_scores:\n",
    "    score = score + 5\n",
    "    print(score)"
   ]
  },
  {
   "cell_type": "markdown",
   "metadata": {},
   "source": [
    "* we can add data to a list using the append() method"
   ]
  },
  {
   "cell_type": "code",
   "execution_count": null,
   "metadata": {},
   "outputs": [
    {
     "name": "stdout",
     "output_type": "stream",
     "text": [
      "[100, 90, 80, 70, 60, 50]\n",
      "65\n"
     ]
    }
   ],
   "source": [
    "test_scores = [100, 90, 80, 70, 60]\n",
    "\n",
    "new_score = 50\n",
    "test_scores.append(new_score)\n",
    "print(test_scores)"
   ]
  },
  {
   "cell_type": "markdown",
   "metadata": {},
   "source": [
    "now let's go through all the list functions or methods that we can use iwth lists\n",
    "\n",
    "* extend() - combine data from one list to another"
   ]
  },
  {
   "cell_type": "code",
   "execution_count": 6,
   "metadata": {},
   "outputs": [
    {
     "name": "stdout",
     "output_type": "stream",
     "text": [
      "[100, 90, 80, 70, 60, 10, 20]\n"
     ]
    }
   ],
   "source": [
    "test_scores = [100, 90, 80, 70, 60]\n",
    "test_scores2 = [10, 20]\n",
    "\n",
    "test_scores.extend(test_scores2)\n",
    "print(test_scores)"
   ]
  },
  {
   "cell_type": "markdown",
   "metadata": {},
   "source": [
    "* removing from a list you can use the remove function/method"
   ]
  },
  {
   "cell_type": "code",
   "execution_count": 9,
   "metadata": {},
   "outputs": [
    {
     "name": "stdout",
     "output_type": "stream",
     "text": [
      "[100, 90, 80, 70, 60, 10, 20]\n",
      "[100, 90, 80, 70, 60, 20]\n"
     ]
    }
   ],
   "source": [
    "test_scores = [100, 90, 80, 70, 60]\n",
    "test_scores2 = [10, 20]\n",
    "\n",
    "test_scores.extend(test_scores2)\n",
    "print(test_scores)\n",
    "\n",
    "test_scores.remove(10)\n",
    "print(test_scores)"
   ]
  },
  {
   "cell_type": "markdown",
   "metadata": {},
   "source": [
    "* finding something in a list\n",
    "    * this will give you a true or false value"
   ]
  },
  {
   "cell_type": "code",
   "execution_count": 10,
   "metadata": {},
   "outputs": [
    {
     "name": "stdout",
     "output_type": "stream",
     "text": [
      "True\n"
     ]
    }
   ],
   "source": [
    "test_scores = [100, 90, 80, 70, 60]\n",
    "\n",
    "looking_for = 90\n",
    "# the in keyword is used to  check if a value is in a list\n",
    "found = looking_for in test_scores\n",
    "print(found)"
   ]
  },
  {
   "cell_type": "code",
   "execution_count": null,
   "metadata": {},
   "outputs": [
    {
     "name": "stdout",
     "output_type": "stream",
     "text": [
      "Value not found.\n"
     ]
    }
   ],
   "source": [
    "test_scores = [100, 90, 80, 70, 60, 10]\n",
    "\n",
    "looking_for = 26\n",
    "# the in keyword is used to  check if a value is in a list\n",
    "found = looking_for in test_scores\n",
    "if found == True:\n",
    "    test_scores.remove(looking_for)\n",
    "    print(test_scores)\n",
    "else:\n",
    "    print(\"Value not found.\")"
   ]
  },
  {
   "cell_type": "markdown",
   "metadata": {},
   "source": [
    "* count() counts the number of times a value appears in a list"
   ]
  },
  {
   "cell_type": "code",
   "execution_count": 17,
   "metadata": {},
   "outputs": [
    {
     "name": "stdout",
     "output_type": "stream",
     "text": [
      "2\n"
     ]
    }
   ],
   "source": [
    "test_scores = [100, 90, 90, 80, 70, 60, 10]\n",
    "print(test_scores.count(90))"
   ]
  },
  {
   "cell_type": "markdown",
   "metadata": {},
   "source": [
    "* sort() - sorts the list in ascending order"
   ]
  },
  {
   "cell_type": "code",
   "execution_count": null,
   "metadata": {},
   "outputs": [
    {
     "name": "stdout",
     "output_type": "stream",
     "text": [
      "[3, 5, 7, 9, 10, 100]\n",
      "[100, 10, 9, 7, 5, 3]\n"
     ]
    }
   ],
   "source": [
    "numbers = [10, 3, 7, 5, 9, 100]\n",
    "\n",
    "numbers.sort()\n",
    "print(numbers)\n",
    "\n",
    "#sort in descending order\n",
    "\n",
    "numbers.sort(reverse = True)\n",
    "print(numbers)"
   ]
  },
  {
   "cell_type": "markdown",
   "metadata": {},
   "source": [
    "* len() - finds the length of a list"
   ]
  },
  {
   "cell_type": "code",
   "execution_count": 21,
   "metadata": {},
   "outputs": [
    {
     "name": "stdout",
     "output_type": "stream",
     "text": [
      "6\n"
     ]
    }
   ],
   "source": [
    "numbers = [10, 3, 7, 5, 9, 100]\n",
    "\n",
    "print(len(numbers))"
   ]
  },
  {
   "cell_type": "markdown",
   "metadata": {},
   "source": [
    "this is the alternative to a for in loop, in is simmilar to what you would see with a traditional for loop in other languages"
   ]
  },
  {
   "cell_type": "code",
   "execution_count": 22,
   "metadata": {},
   "outputs": [
    {
     "name": "stdout",
     "output_type": "stream",
     "text": [
      "0 - 100\n",
      "1 - 90\n",
      "2 - 90\n",
      "3 - 80\n",
      "4 - 70\n",
      "5 - 60\n",
      "6 - 10\n"
     ]
    }
   ],
   "source": [
    "test_scores = [100, 90, 90, 80, 70, 60, 10]\n",
    "\n",
    "for i in range(len(test_scores)):\n",
    "    print(i, \"-\", test_scores[i])"
   ]
  },
  {
   "cell_type": "markdown",
   "metadata": {},
   "source": [
    "### tuples\n",
    "\n",
    "* tuples are immutable (do not change)\n",
    "* tuples are faster than lists\n",
    "* constant is a variable that does not change, they are declared and used\n",
    "* tuples are used for fixed data\n",
    "* tuples have to be replaced to be changed\n",
    "\n",
    "here is an example of something that is immutable - strings\n",
    "* when changing a string value, it is actually creating a new string\n",
    "* strings are technically arrays of a list of characters taht represent an individual character or symbol\n"
   ]
  },
  {
   "cell_type": "code",
   "execution_count": null,
   "metadata": {},
   "outputs": [
    {
     "name": "stdout",
     "output_type": "stream",
     "text": [
      "Darcy\n",
      "Tarcy\n"
     ]
    }
   ],
   "source": [
    "name = \"Darcy\"\n",
    "print(name)\n",
    "\n",
    "# name[0] = \"T\" - this will not work because strings are immutable\n",
    "name = \"Darcy\" # this will work because it is creating a new string\n",
    "print(name)"
   ]
  },
  {
   "cell_type": "markdown",
   "metadata": {},
   "source": [
    "* tuples are created using parentheses\n",
    "* tuplename = (data1, data2, data3)"
   ]
  },
  {
   "cell_type": "code",
   "execution_count": 26,
   "metadata": {},
   "outputs": [
    {
     "name": "stdout",
     "output_type": "stream",
     "text": [
      "IL\n",
      "KY\n",
      "IN\n",
      "OH\n"
     ]
    }
   ],
   "source": [
    "states = (\"IL\", \"KY\", \"IN\", \"OH\")\n",
    "\n",
    "for state in states:\n",
    "    print(state)"
   ]
  },
  {
   "cell_type": "markdown",
   "metadata": {},
   "source": [
    "* there is one type of \"modifying\" you can do\n",
    "    * you can combine tuples because it makes or overwrites a new tuple"
   ]
  },
  {
   "cell_type": "code",
   "execution_count": 27,
   "metadata": {},
   "outputs": [
    {
     "name": "stdout",
     "output_type": "stream",
     "text": [
      "('IL', 'KY', 'IN', 'OH', 'FL', 'GA', 'AL')\n"
     ]
    }
   ],
   "source": [
    "states = (\"IL\", \"KY\", \"IN\", \"OH\")\n",
    "states2 = (\"FL\", \"GA\", \"AL\")\n",
    "states = states + states2\n",
    "print(states)"
   ]
  },
  {
   "cell_type": "markdown",
   "metadata": {},
   "source": [
    "### dictionaries\n",
    "\n",
    "* dictionaries create key-value pairs that associate a characteristic/property with a value\n",
    "* in python, it is a hash table or an object\n",
    "* similar to a class without methods (i.e an object literal)\n",
    "* dictionaries are mutable\n",
    "\n",
    "objects/dictionaries can be almost anything, but in programming it usually refers to a wrapper that encapsulates related data together to describe something like the following:\n",
    "\n",
    "object called Person - name, age\n",
    "\n",
    "object called Car - make, model, year\n",
    "\n",
    "* dictionaries can group something by a list of items and associated values (like an actual dictionary)\n",
    "\n",
    "let's look at an example below where there is a list of bank customers and their bank balance\n",
    "the dictionary is created using curly braces"
   ]
  },
  {
   "cell_type": "code",
   "execution_count": null,
   "metadata": {},
   "outputs": [
    {
     "name": "stdout",
     "output_type": "stream",
     "text": [
      "Alice 100\n",
      "Bob 200\n",
      "Charlie 300\n",
      "Name - Darcy\n",
      "Age - 26\n",
      "City - Indianapolis\n"
     ]
    }
   ],
   "source": [
    "bank_customers = {\n",
    "    \"Alice\": 100,\n",
    "    \"Bob\": 200,\n",
    "    \"Charlie\": 300\n",
    "}\n",
    "\n",
    "# dictionaries can be accessed by the key\n",
    "# to display everything we can use a loop\n",
    "# first iteration is Alice, 100\n",
    "# customer is the key, bank_customers[customer] is the value where customer acts as an index\n",
    "\n",
    "for customer in bank_customers:\n",
    "    print(customer, bank_customers[customer])"
   ]
  },
  {
   "cell_type": "markdown",
   "metadata": {},
   "source": [
    "* you can use a dictionary like an object"
   ]
  },
  {
   "cell_type": "code",
   "execution_count": 31,
   "metadata": {},
   "outputs": [
    {
     "name": "stdout",
     "output_type": "stream",
     "text": [
      "Name - Darcy\n",
      "Age - 26\n",
      "City - Indianapolis\n"
     ]
    }
   ],
   "source": [
    "person_darcy = {\n",
    "    \"Name\": \"Darcy\",\n",
    "    \"Age\": 26,\n",
    "    \"City\": \"Indianapolis\"\n",
    "}\n",
    "\n",
    "for details in person_darcy:\n",
    "    print(details, \"-\", person_darcy[details])"
   ]
  },
  {
   "cell_type": "markdown",
   "metadata": {},
   "source": [
    "* dictionaries can be modified by adding a new key-value pair\n",
    "* referring to an item by a key name and assign a value\n",
    "    * if there is not a key name that matches, a new one will be added\n",
    "* syntax - dictionaryname[key] = value\n"
   ]
  },
  {
   "cell_type": "code",
   "execution_count": null,
   "metadata": {},
   "outputs": [
    {
     "name": "stdout",
     "output_type": "stream",
     "text": [
      "{'Alice': 150, 'Bob': 200, 'Charlie': 300, 'Darcy': 400}\n",
      "150\n",
      "{'Bob': 200, 'Charlie': 300, 'Darcy': 400}\n"
     ]
    }
   ],
   "source": [
    "bank_customers = {\n",
    "    \"Alice\": 100,\n",
    "    \"Bob\": 200,\n",
    "    \"Charlie\": 300\n",
    "}\n",
    "\n",
    "bank_customers[\"Darcy\"] = 400\n",
    "bank_customers[\"Alice\"] = 150\n",
    "print(bank_customers)\n",
    "\n",
    "# grab single item from a list...call by key name\n",
    "# use .get method to grab data from a dictionary\n",
    "print(bank_customers.get(\"Alice\"))\n",
    "\n",
    "# delete item by key\n",
    "# syntax - del dictionaryname[key]\n",
    "del bank_customers[\"Alice\"]\n",
    "print(bank_customers)\n",
    "\n",
    "# finding items in a dictionary\n",
    "# syntax - key in dictionaryname\n",
    "\n",
    "key = \"Bob\"\n",
    "if key in bank_customers:\n",
    "    print(key, \"is in the bank_customers dictionary.\")\n",
    "    "
   ]
  }
 ],
 "metadata": {
  "kernelspec": {
   "display_name": "Python 3",
   "language": "python",
   "name": "python3"
  },
  "language_info": {
   "codemirror_mode": {
    "name": "ipython",
    "version": 3
   },
   "file_extension": ".py",
   "mimetype": "text/x-python",
   "name": "python",
   "nbconvert_exporter": "python",
   "pygments_lexer": "ipython3",
   "version": "3.12.0"
  }
 },
 "nbformat": 4,
 "nbformat_minor": 2
}
